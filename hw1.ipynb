{
 "cells": [
  {
   "cell_type": "code",
   "execution_count": 10,
   "metadata": {},
   "outputs": [],
   "source": [
    "def parse_file(filename: str):\n",
    "    result = []\n",
    "    with open(filename, 'r') as f:\n",
    "        for line in f.readlines():\n",
    "            if line.startswith('>'):\n",
    "                result.append('')\n",
    "            else:\n",
    "                result[-1] += line\n",
    "    return result\n",
    "\n",
    "\n",
    "def get_stats(filename: str):\n",
    "    parsed = parse_file(filename)\n",
    "    sorted_lens = sorted(map(len, parsed), reverse=True)\n",
    "    N50 = 0\n",
    "    acc = 0\n",
    "    for seq_len in sorted_lens:\n",
    "        acc += seq_len\n",
    "        if 2 * acc > sum(sorted_lens):\n",
    "            N50 = seq_len\n",
    "            break\n",
    "        \n",
    "    return f\"Total length: {sum(sorted_lens)} \\nTotal number of parts: {len(sorted_lens)} \\nMax length: {max(sorted_lens)}\\nN50: {N50}\"\n"
   ]
  },
  {
   "cell_type": "markdown",
   "metadata": {},
   "source": [
    "### Считаем статистики"
   ]
  },
  {
   "cell_type": "code",
   "execution_count": 11,
   "metadata": {},
   "outputs": [
    {
     "name": "stdout",
     "output_type": "stream",
     "text": [
      "Contings:\n",
      "Total length: 3974355 \n",
      "Total number of parts: 610 \n",
      "Max length: 181549\n",
      "N50: 54645\n"
     ]
    }
   ],
   "source": [
    "print(\"Contings:\")\n",
    "print(get_stats('data/contigs.fasta'))"
   ]
  },
  {
   "cell_type": "code",
   "execution_count": 12,
   "metadata": {},
   "outputs": [
    {
     "name": "stdout",
     "output_type": "stream",
     "text": [
      "Scaffolds:\n",
      "Total length: 3922313 \n",
      "Total number of parts: 64 \n",
      "Max length: 3886139\n",
      "N50: 3886139\n"
     ]
    }
   ],
   "source": [
    "print(\"Scaffolds:\")\n",
    "print(get_stats('data/scaffolds.fasta'))"
   ]
  },
  {
   "cell_type": "code",
   "execution_count": 13,
   "metadata": {},
   "outputs": [
    {
     "name": "stdout",
     "output_type": "stream",
     "text": [
      "Scaffolds with gaps closed:\n",
      "Total length: 3955911 \n",
      "Total number of parts: 64 \n",
      "Max length: 3919463\n",
      "N50: 3919463\n"
     ]
    }
   ],
   "source": [
    "print(\"Scaffolds with gaps closed:\")\n",
    "print(get_stats('data/scaffolds_gapclosed.fasta'))"
   ]
  },
  {
   "cell_type": "markdown",
   "metadata": {},
   "source": [
    "### Работаем с наибольшим скаффолдом"
   ]
  },
  {
   "cell_type": "code",
   "execution_count": 16,
   "metadata": {},
   "outputs": [],
   "source": [
    "def get_maxlen_subseq(filename):\n",
    "    parsed = parse_file(filename)\n",
    "    return sorted(parsed, key=len, reverse=True)[0]\n",
    "\n",
    "def get_cnt_N(seq):\n",
    "    ans = 0\n",
    "    for i in range(1, len(seq)):\n",
    "        ans += seq[i] == 'N' and seq[i - 1] != 'N'\n",
    "    return ans\n",
    "    \n",
    "def get_longest_stats(filename):\n",
    "    max_subseq = get_maxlen_subseq(filename)\n",
    "    return max_subseq.count(\"N\"), get_cnt_N(max_subseq)\n",
    "\n"
   ]
  },
  {
   "cell_type": "code",
   "execution_count": 17,
   "metadata": {},
   "outputs": [
    {
     "name": "stdout",
     "output_type": "stream",
     "text": [
      "Scaffolds before gap closing:\n",
      "Total gap lens: 6638\n",
      "Total gap number: 147\n"
     ]
    }
   ],
   "source": [
    "print(\"Scaffolds before gap closing:\")\n",
    "total_len, cnt = get_longest_stats('data/scaffolds.fasta')\n",
    "print(f\"Total gap lens: {total_len}\")\n",
    "print(f\"Total gap number: {cnt}\")"
   ]
  },
  {
   "cell_type": "code",
   "execution_count": 18,
   "metadata": {},
   "outputs": [
    {
     "name": "stdout",
     "output_type": "stream",
     "text": [
      "Scaffolds before after closing:\n",
      "Total gap lens: 2225\n",
      "Total gap number: 37\n"
     ]
    }
   ],
   "source": [
    "print(\"Scaffolds before after closing:\")\n",
    "total_len, cnt = get_longest_stats('data/scaffolds_gapclosed.fasta')\n",
    "print(f\"Total gap lens: {total_len}\")\n",
    "print(f\"Total gap number: {cnt}\")"
   ]
  },
  {
   "cell_type": "markdown",
   "metadata": {},
   "source": [
    "Теперь запишем последовательность максимального по длине скаффолда в отдельный файлик"
   ]
  },
  {
   "cell_type": "code",
   "execution_count": 19,
   "metadata": {},
   "outputs": [],
   "source": [
    "with open('data/longest.fasta', 'w') as f:\n",
    "    f.write(get_maxlen_subseq('data/scaffolds_gapclosed.fasta'))"
   ]
  },
  {
   "cell_type": "markdown",
   "metadata": {},
   "source": [
    "## Бонус \n",
    "\n",
    "Файлики полностью аналогичные основному заданию положил в поддриректорию ```data/bonus```\n",
    "\n",
    "Сначала так же найдем статистики с помощью тех же самых фукнций:"
   ]
  },
  {
   "cell_type": "code",
   "execution_count": 23,
   "metadata": {},
   "outputs": [
    {
     "name": "stdout",
     "output_type": "stream",
     "text": [
      "Contings:\n",
      "Total length: 3772461 \n",
      "Total number of parts: 11420 \n",
      "Max length: 4828\n",
      "N50: 607\n",
      "-------------\n",
      "Scaffolds:\n",
      "Total length: 3715067 \n",
      "Total number of parts: 5324 \n",
      "Max length: 52924\n",
      "N50: 2143\n",
      "-------------\n",
      "Scaffolds with gaps closed:\n",
      "Total length: 3690486 \n",
      "Total number of parts: 5324 \n",
      "Max length: 52770\n",
      "N50: 2105\n"
     ]
    }
   ],
   "source": [
    "print(\"Contings:\")\n",
    "print(get_stats('data/bonus/contigs.fasta'))\n",
    "print(\"-------------\")\n",
    "print(\"Scaffolds:\")\n",
    "print(get_stats('data/bonus/scaffolds.fasta'))\n",
    "print(\"-------------\")\n",
    "print(\"Scaffolds with gaps closed:\")\n",
    "print(get_stats('data/bonus/scaffolds_gapclosed.fasta'))"
   ]
  },
  {
   "cell_type": "markdown",
   "metadata": {},
   "source": [
    "Как видно, данные оказались недостаточно большими, чтобы на них как-то сильно повлияло gap_closed\n",
    "\n",
    "Теперь найдем наибольший скаффолд"
   ]
  },
  {
   "cell_type": "code",
   "execution_count": 24,
   "metadata": {},
   "outputs": [
    {
     "name": "stdout",
     "output_type": "stream",
     "text": [
      "Scaffolds before gap closing:\n",
      "Total gap lens: 5392\n",
      "Total gap number: 135\n",
      "----------------\n",
      "Scaffolds before after closing:\n",
      "Total gap lens: 4142\n",
      "Total gap number: 60\n"
     ]
    }
   ],
   "source": [
    "print(\"Scaffolds before gap closing:\")\n",
    "total_len, cnt = get_longest_stats('data/bonus/scaffolds.fasta')\n",
    "print(f\"Total gap lens: {total_len}\")\n",
    "print(f\"Total gap number: {cnt}\")\n",
    "print(\"----------------\")\n",
    "print(\"Scaffolds before after closing:\")\n",
    "total_len, cnt = get_longest_stats('data/bonus/scaffolds_gapclosed.fasta')\n",
    "print(f\"Total gap lens: {total_len}\")\n",
    "print(f\"Total gap number: {cnt}\")"
   ]
  },
  {
   "cell_type": "code",
   "execution_count": null,
   "metadata": {},
   "outputs": [],
   "source": [
    "# Запишем самую длинную последовательность \n",
    "with open('data/bonus/longest.fasta', 'w') as f:\n",
    "    f.write(get_maxlen_subseq('data/bonus/scaffolds_gapclosed.fasta'))"
   ]
  },
  {
   "cell_type": "markdown",
   "metadata": {},
   "source": [
    "Видно, что разница не такая большая (и сами данные посчитались намного быстрее по времени)"
   ]
  }
 ],
 "metadata": {
  "kernelspec": {
   "display_name": "Python 3.8.9 64-bit",
   "language": "python",
   "name": "python3"
  },
  "language_info": {
   "codemirror_mode": {
    "name": "ipython",
    "version": 3
   },
   "file_extension": ".py",
   "mimetype": "text/x-python",
   "name": "python",
   "nbconvert_exporter": "python",
   "pygments_lexer": "ipython3",
   "version": "3.8.9"
  },
  "orig_nbformat": 4,
  "vscode": {
   "interpreter": {
    "hash": "31f2aee4e71d21fbe5cf8b01ff0e069b9275f58929596ceb00d14d90e3e16cd6"
   }
  }
 },
 "nbformat": 4,
 "nbformat_minor": 2
}
